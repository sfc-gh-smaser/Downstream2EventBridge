{
 "metadata": {
  "kernelspec": {
   "display_name": "Streamlit Notebook",
   "name": "streamlit"
  },
  "lastEditStatus": {
   "notebookId": "ikcojuivvrwiqj43wibx",
   "authorId": "448503205570",
   "authorName": "SMASER_SFC",
   "authorEmail": "steven.maser@snowflake.com",
   "sessionId": "ec165d05-e7d1-4347-850c-fb9a0854c20b",
   "lastEditTime": 1741031061895
  }
 },
 "nbformat_minor": 5,
 "nbformat": 4,
 "cells": [
  {
   "cell_type": "markdown",
   "id": "41f0adde-f18b-46c9-9767-cdecb320a332",
   "metadata": {
    "name": "cell0",
    "collapsed": false
   },
   "source": "# Notebook #1\n## This is an example notebook is creating the UDF to send table change events within Snowflake to AWS EventBridge\n### UDF is 'vectorized' for scalability and performance\nWritten by Steven.Maser@snowflake.com"
  },
  {
   "cell_type": "code",
   "id": "af418479-795b-4769-9da1-d443f51f0226",
   "metadata": {
    "language": "python",
    "name": "VARIABLES",
    "collapsed": false
   },
   "outputs": [],
   "source": "from snowflake.snowpark.context import get_active_session\nsession = get_active_session()\n\n#Variables for object creation (define to your needs)\nDB= 'EVENT_MONITORING'\nSCHEMA = 'PUBLIC'\nSUB_SCHEMA = 'PROCESSING'\nAWS_REGION = 'us-west-2'\nAWS_CLIENT = 'events'\nAWS_EVENTBUS_NAME='default' # used 'default' for Demonstrations\nAWS_ROLE_ARN='arn:aws:iam::xxxxxxxxxx:role/my-external-access-iam' # provided by your AWS acount\nEXT_UDF_NAME = 'notifyEventBridge' # Name of UDF this notebook creates",
   "execution_count": null
  },
  {
   "cell_type": "code",
   "id": "5f2703c8-8d8f-4cf5-8fbf-76680a69a9ae",
   "metadata": {
    "language": "sql",
    "name": "cell1",
    "collapsed": false
   },
   "outputs": [],
   "source": "--1. Create Network Rule, listing allowed AWS Services\nCREATE OR REPLACE NETWORK RULE {{DB}}.{{SCHEMA}}.aws_event_network_rule\n  MODE = EGRESS\n  TYPE = HOST_PORT\n  VALUE_LIST = ('events.{{AWS_REGION}}.amazonaws.com');\n",
   "execution_count": null
  },
  {
   "cell_type": "code",
   "id": "45ffa22c-35b0-45aa-97a2-435fa4a9a3de",
   "metadata": {
    "language": "sql",
    "name": "cell2",
    "collapsed": false
   },
   "outputs": [],
   "source": "--2.  Create Security Integration (defined in AWS and the Role to Assume with EventBridge permissions)\nCREATE SECURITY INTEGRATION if not exists aws_event_security_integration\n TYPE = API_AUTHENTICATION\n AUTH_TYPE = AWS_IAM\n ENABLED = TRUE\n AWS_ROLE_ARN = '{{AWS_ROLE_ARN}}'; -- Use ARN of role you will assume",
   "execution_count": null
  },
  {
   "cell_type": "code",
   "id": "464b4637-fd80-4c89-91da-90378a4d9b24",
   "metadata": {
    "language": "sql",
    "name": "cell3",
    "collapsed": false
   },
   "outputs": [],
   "source": "--3.  Get (USER_ARN and External_ID to add a trust in AWS Policy )\ndescribe integration aws_event_security_integration;\n\n--4. Add value of API_AWS_EXTERNAL_ID to your AWS Role's Trust Policy\n      ---https://docs.snowflake.com/en/sql-reference/external-functions-creating-aws-common-api-integration-proxy-link#set-up-the-trust-relationship-s-between-snowflake-and-the-new-iam-role",
   "execution_count": null
  },
  {
   "cell_type": "markdown",
   "id": "944acf2f-243f-4d8b-840b-c2d3de911ed4",
   "metadata": {
    "name": "cell4",
    "collapsed": false
   },
   "source": "### Step 4:  Use value API_AWS_EXTERNAL_ID value above to set your Trust Policy in AWS for security\n\nWarning: will change values if you re-create your security integration"
  },
  {
   "cell_type": "code",
   "id": "9844b1b0-0a1e-4bec-81b5-773f27bf5c06",
   "metadata": {
    "language": "sql",
    "name": "cell5",
    "collapsed": false
   },
   "outputs": [],
   "source": "--5.  Create an AWS Secret and grant usage\nCREATE OR REPLACE SECRET {{DB}}.{{SCHEMA}}.aws_event_token\n  TYPE = CLOUD_PROVIDER_TOKEN\n  API_AUTHENTICATION = aws_event_security_integration;\nGRANT READ ON SECRET {{DB}}.{{SCHEMA}}.aws_event_token TO ROLE {{session.get_current_role()}};",
   "execution_count": null
  },
  {
   "cell_type": "code",
   "id": "cd65b3db-8349-46fe-96a1-7347897e36c0",
   "metadata": {
    "language": "sql",
    "name": "cell6",
    "collapsed": false
   },
   "outputs": [],
   "source": "--6.  Create External Access Integration connecting steps 1-4 and grant access\nCREATE OR REPLACE EXTERNAL ACCESS INTEGRATION aws_event_integration\n  ALLOWED_NETWORK_RULES = ({{DB}}.{{SCHEMA}}.aws_event_network_rule)\n  ALLOWED_AUTHENTICATION_SECRETS = ({{DB}}.{{SCHEMA}}.aws_event_token)\n  ENABLED = true;\nGRANT USAGE ON INTEGRATION aws_event_integration TO ROLE {{session.get_current_role()}};",
   "execution_count": null
  },
  {
   "cell_type": "code",
   "id": "4df9075d-0d80-48ba-bfaa-aa9741bbcf78",
   "metadata": {
    "language": "sql",
    "name": "cell7",
    "collapsed": false
   },
   "outputs": [],
   "source": "--7. Create UDF that batches 10 records at a time to send to AWS EventBridge (its current limit)\n        --- Note:  total event size must be less than 256KB\n        --another example:  https://medium.com/snowflake/making-batch-api-calls-in-snowflake-with-vectorized-udfs-b9a15c7c0704\n\nCREATE OR REPLACE FUNCTION {{DB}}.{{SCHEMA}}.{{EXT_UDF_NAME}}(event string)\nRETURNS STRING\nLANGUAGE PYTHON\nRUNTIME_VERSION = 3.11\nHANDLER = 'put'\nPACKAGES=('snowflake-snowpark-python','boto3','botocore')\nEXTERNAL_ACCESS_INTEGRATIONS = (aws_event_integration)\nSECRETS = ('aws_event_token' = aws_event_token)\nAS\n$$\nimport pandas\nimport _snowflake\nfrom _snowflake import vectorized\nimport boto3\n\nclass Boto3Client:\n    _client = None\n    \n    @classmethod\n    def _get_client(cls):\n        if cls._client is not None:\n            return cls._client\n            \n        cloud_provider_object = _snowflake.get_cloud_provider_token(\"aws_event_token\")\n        aws_access_key_id = cloud_provider_object.access_key_id\n        aws_secret_access_key = cloud_provider_object.secret_access_key\n        aws_session_token = cloud_provider_object.token\n        \n        cls._client = boto3.client(\n            '{{AWS_CLIENT}}',\n            aws_access_key_id=aws_access_key_id,\n            aws_secret_access_key=aws_secret_access_key,\n            aws_session_token=aws_session_token,\n            region_name='{{AWS_REGION}}'\n        )\n        return cls._client\n\n@vectorized(input=pandas.DataFrame, max_batch_size=10)\ndef put(event):\n    eventbridge = Boto3Client._get_client()\n\n    payload = event[0].apply(lambda x: {\n        'Source': 'Snowflake|db.schema.table',\n        'DetailType': 'Table Change Event',\n        'Detail': x,\n        'EventBusName': '{{AWS_EVENTBUS_NAME}}'\n    }).tolist() \n\n    response = eventbridge.put_events(Entries=payload) \n    data = []\n    for record in response['Entries']:\n        data.append(record['EventId'])\n    return pandas.Series(data)\n$$;",
   "execution_count": null
  },
  {
   "cell_type": "code",
   "id": "b5d8a101-ff61-4bb1-9f3e-30e29976b5af",
   "metadata": {
    "language": "python",
    "name": "cell11"
   },
   "outputs": [],
   "source": "",
   "execution_count": null
  },
  {
   "cell_type": "code",
   "id": "d1c62301-315d-4759-b0f8-3488c8f20f6a",
   "metadata": {
    "language": "sql",
    "name": "cell8",
    "collapsed": false
   },
   "outputs": [],
   "source": "--8. Test Creating Payload\nselect OBJECT_CONSTRUCT('Account',current_account(),'Region',current_region(),'Database','$db_name','Schema','$schema','Table','$table','Record',OBJECT_CONSTRUCT(*))::STRING as Event from TEST_TABLE;",
   "execution_count": null
  },
  {
   "cell_type": "code",
   "id": "c8ceefe3-3725-4a35-9e7b-63a20f3cbd7f",
   "metadata": {
    "language": "sql",
    "name": "cell9",
    "collapsed": false
   },
   "outputs": [],
   "source": "--9.  Test Sending Events to AWS EventBridge and return AWS EventIds\nSELECT {{DB}}.{{SCHEMA}}.{{EXT_UDF_NAME}}(\n    OBJECT_CONSTRUCT('Account',current_account(), 'Region',current_region(), 'Database','$db_name', 'Schema','$schema', 'Table','$table', 'Record',OBJECT_CONSTRUCT(*))::STRING\n) as EventId FROM TEST_TABLE;\n",
   "execution_count": null
  }
 ]
}